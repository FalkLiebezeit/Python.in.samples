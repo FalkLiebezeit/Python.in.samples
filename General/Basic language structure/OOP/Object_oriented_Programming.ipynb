{
 "cells": [
  {
   "cell_type": "markdown",
   "metadata": {
    "id": "PQNOjrENz_5o"
   },
   "source": [
    "**Object-oriented Programming**"
   ]
  },
  {
   "cell_type": "code",
   "execution_count": 10,
   "metadata": {
    "id": "0fLDwULs0DIY"
   },
   "outputs": [],
   "source": [
    "# Defining a class\n",
    "\n",
    "class Person:\n",
    "  #Constructor (initializer)\n",
    "  def __init__(self, name, age):\n",
    "    self.name = name\n",
    "    self.age = age\n",
    "\n",
    "    # Method to display information\n",
    "  def display_info(self):\n",
    "     print(f\"Name:{self.name}, Age: {self.age}\")"
   ]
  },
  {
   "cell_type": "code",
   "execution_count": 2,
   "metadata": {
    "id": "9BNv-Ypa0eb5"
   },
   "outputs": [],
   "source": [
    "#Create objects (instances) of the Person class\n",
    "person1 = Person(\"Alice\", 30)\n",
    "person2 = Person(\"Bob\", 25)"
   ]
  },
  {
   "cell_type": "code",
   "execution_count": 3,
   "metadata": {
    "id": "yzZ2Zs1K0p2d"
   },
   "outputs": [
    {
     "name": "stdout",
     "output_type": "stream",
     "text": [
      "Alice\n",
      "25\n",
      "Name:Alice, Age: 30\n",
      "Name:Bob, Age: 25\n"
     ]
    }
   ],
   "source": [
    "#Access attributes\n",
    "print(person1.name) # Output: \"Alice\"\n",
    "print(person2.age) # Output: 25\n",
    "\n",
    "#Call methods\n",
    "person1.display_info() # Output: \"Name: Alice, Age: 30\"\n",
    "person2.display_info() # Output: \"Name: Bob, Age: 25\""
   ]
  },
  {
   "cell_type": "markdown",
   "metadata": {
    "id": "8dzZmfTm06zP"
   },
   "source": [
    "**Inheritance**"
   ]
  },
  {
   "cell_type": "code",
   "execution_count": 4,
   "metadata": {
    "id": "wNa-rG6100SH"
   },
   "outputs": [],
   "source": [
    "#Base class\n",
    "\n",
    "\n",
    "class Animal:\n",
    "\n",
    "  def __init__(self, name):\n",
    "    self.name = name\n",
    "  def speak(self):\n",
    "    pass # This is a placeholder method\n",
    "\n",
    "\n",
    "class Dog(Animal):\n",
    "  def speak(self):\n",
    "    return f\"{self.name} says Woof!\"\n",
    "\n",
    "\n",
    "class Cat(Animal):\n",
    "  def speak(self):\n",
    "    return f\"{self.name} says Meow!\""
   ]
  },
  {
   "cell_type": "code",
   "execution_count": 5,
   "metadata": {
    "id": "6YglFtjE1xdJ"
   },
   "outputs": [
    {
     "name": "stdout",
     "output_type": "stream",
     "text": [
      "Buddy says Woof!\n",
      "Whiskers says Meow!\n"
     ]
    }
   ],
   "source": [
    "#Creating derived objects\n",
    "\n",
    "dog = Dog(\"Buddy\")\n",
    "cat = Cat(\"Whiskers\")\n",
    "\n",
    "print(dog.speak()) # Output: \"Buddy says Woof!\"\n",
    "print(cat.speak()) # Output: \"Whiskers says Meow!\""
   ]
  },
  {
   "cell_type": "markdown",
   "metadata": {
    "id": "XM8vHxTm2CYF"
   },
   "source": [
    "**Polymorphism**"
   ]
  },
  {
   "cell_type": "code",
   "execution_count": 6,
   "metadata": {
    "id": "bVK8pamV2AMn"
   },
   "outputs": [],
   "source": [
    "#Method overriding\n",
    "\n",
    "\n",
    "class Shape:\n",
    "  def area(self):\n",
    "    pass\n",
    "\n",
    "\n",
    "class Circle(Shape):\n",
    "  def __init__(self, radius):\n",
    "    self.radius = radius\n",
    "\n",
    "  def area(self):\n",
    "    return 3.14 * self.radius * self.radius\n",
    "\n",
    "\n",
    "class Rectangle (Shape):\n",
    "  def __init__(self, width, height):\n",
    "    self.width = width\n",
    "    self.height = height\n",
    "\n",
    "  def area(self):\n",
    "    return self.width * self.height"
   ]
  },
  {
   "cell_type": "code",
   "execution_count": 7,
   "metadata": {
    "colab": {
     "base_uri": "https://localhost:8080/"
    },
    "id": "xoct-h8026Dc",
    "outputId": "e7166c70-ba52-430d-afe2-7b54166233bb"
   },
   "outputs": [
    {
     "name": "stdout",
     "output_type": "stream",
     "text": [
      "Area: 78.5\n",
      "Area: 24\n"
     ]
    }
   ],
   "source": [
    "#Polymorphism\n",
    "\n",
    "circle = Circle(5)\n",
    "rectangle = Rectangle(4, 6)\n",
    "\n",
    "shapes = [circle, rectangle]\n",
    "\n",
    "for shape in shapes:\n",
    "  print(f\"Area: {shape.area()}\")"
   ]
  },
  {
   "cell_type": "markdown",
   "metadata": {
    "id": "vMWpbT723Yrx"
   },
   "source": [
    "**Abstraction**"
   ]
  },
  {
   "cell_type": "code",
   "execution_count": 8,
   "metadata": {
    "id": "Bg7IVDVK3aLn"
   },
   "outputs": [
    {
     "name": "stdout",
     "output_type": "stream",
     "text": [
      "Area of the circle: 78.5\n",
      "Area of the rectangle: 24\n"
     ]
    }
   ],
   "source": [
    "from abc import ABC, abstractmethod  # Import ABC (Abstract Base Class) and abstractmethod\n",
    "\n",
    "class Shape(ABC):\n",
    "    def __init__(self):\n",
    "        pass\n",
    "\n",
    "    @abstractmethod\n",
    "    def area(self):\n",
    "        pass\n",
    "\n",
    "class Circle(Shape):\n",
    "    def __init__(self, radius):\n",
    "        self.radius = radius\n",
    "\n",
    "    def area(self):\n",
    "        return 3.14 * self.radius * self.radius\n",
    "\n",
    "class Rectangle(Shape):\n",
    "    def __init__(self, length, width):\n",
    "        self.length = length\n",
    "        self.width = width\n",
    "\n",
    "    def area(self):\n",
    "        return self.length * self.width\n",
    "\n",
    "# Creating objects\n",
    "circle = Circle(5)\n",
    "rectangle = Rectangle(4, 6)\n",
    "\n",
    "# Calculating and displaying areas\n",
    "print(f\"Area of the circle: {circle.area()}\")\n",
    "print(f\"Area of the rectangle: {rectangle.area()}\")\n"
   ]
  },
  {
   "cell_type": "code",
   "execution_count": 9,
   "metadata": {
    "id": "8wATghur3_ib"
   },
   "outputs": [
    {
     "name": "stdout",
     "output_type": "stream",
     "text": [
      "Title: Python Crash Course\n",
      "Author: Eric Matthes\n",
      "Genre: Programming\n",
      "Checked Out: No\n",
      "\n",
      "Title: Inception\n",
      "Director: Christopher Nolan\n",
      "Runtime: 148 minutes\n",
      "Checked Out: No\n",
      "\n",
      "Title: The Great Gatsby\n",
      "Author: F. Scott Fitzgerald\n",
      "Genre: Fiction\n",
      "Checked Out: No\n",
      "\n",
      "Python Crash Course by Eric Matthes has been checked out.\n",
      "Inception by Christopher Nolan has been checked out.\n",
      "Python Crash Course is already checked out.\n",
      "Title: Python Crash Course\n",
      "Author: Eric Matthes\n",
      "Genre: Programming\n",
      "Checked Out: Yes\n",
      "\n",
      "Title: Inception\n",
      "Director: Christopher Nolan\n",
      "Runtime: 148 minutes\n",
      "Checked Out: Yes\n",
      "\n",
      "Title: The Great Gatsby\n",
      "Author: F. Scott Fitzgerald\n",
      "Genre: Fiction\n",
      "Checked Out: No\n",
      "\n"
     ]
    }
   ],
   "source": [
    "from abc import ABC, abstractmethod\n",
    "\n",
    "# Define an abstract class for items in the library\n",
    "class LibraryItem(ABC):\n",
    "    def __init__(self, title, author):\n",
    "        self.title = title\n",
    "        self.author = author\n",
    "        self.checked_out = False\n",
    "\n",
    "    @abstractmethod\n",
    "    def display_details(self):\n",
    "        pass\n",
    "\n",
    "    def check_out(self):\n",
    "        if not self.checked_out:\n",
    "            self.checked_out = True\n",
    "            print(f\"{self.title} by {self.author} has been checked out.\")\n",
    "        else:\n",
    "            print(f\"{self.title} is already checked out.\")\n",
    "\n",
    "    def check_in(self):\n",
    "        if self.checked_out:\n",
    "            self.checked_out = False\n",
    "            print(f\"{self.title} by {self.author} has been checked in.\")\n",
    "        else:\n",
    "            print(f\"{self.title} is not checked out.\")\n",
    "\n",
    "# Define a class for books\n",
    "class Book(LibraryItem):\n",
    "    def __init__(self, title, author, genre):\n",
    "        super().__init__(title, author)\n",
    "        self.genre = genre\n",
    "\n",
    "    def display_details(self):\n",
    "        print(f\"Title: {self.title}\")\n",
    "        print(f\"Author: {self.author}\")\n",
    "        print(f\"Genre: {self.genre}\")\n",
    "        print(f\"Checked Out: {'Yes' if self.checked_out else 'No'}\")\n",
    "\n",
    "# Define a class for DVDs\n",
    "class DVD(LibraryItem):\n",
    "    def __init__(self, title, director, runtime):\n",
    "        super().__init__(title, director)\n",
    "        self.runtime = runtime\n",
    "\n",
    "    def display_details(self):\n",
    "        print(f\"Title: {self.title}\")\n",
    "        print(f\"Director: {self.author}\")\n",
    "        print(f\"Runtime: {self.runtime} minutes\")\n",
    "        print(f\"Checked Out: {'Yes' if self.checked_out else 'No'}\")\n",
    "\n",
    "# Create a library\n",
    "class Library:\n",
    "    def __init__(self):\n",
    "        self.catalog = []\n",
    "\n",
    "    def add_item(self, item):\n",
    "        self.catalog.append(item)\n",
    "\n",
    "    def display_catalog(self):\n",
    "        for item in self.catalog:\n",
    "            item.display_details()\n",
    "            print()\n",
    "\n",
    "# Main program\n",
    "if __name__ == \"__main__\":\n",
    "    book1 = Book(\"Python Crash Course\", \"Eric Matthes\", \"Programming\")\n",
    "    dvd1 = DVD(\"Inception\", \"Christopher Nolan\", 148)\n",
    "    book2 = Book(\"The Great Gatsby\", \"F. Scott Fitzgerald\", \"Fiction\")\n",
    "\n",
    "    library = Library()\n",
    "    library.add_item(book1)\n",
    "    library.add_item(dvd1)\n",
    "    library.add_item(book2)\n",
    "\n",
    "    library.display_catalog()\n",
    "\n",
    "    book1.check_out()\n",
    "    dvd1.check_out()\n",
    "    book1.check_out()\n",
    "\n",
    "    library.display_catalog()\n"
   ]
  }
 ],
 "metadata": {
  "colab": {
   "provenance": []
  },
  "kernelspec": {
   "display_name": "Python 3",
   "name": "python3"
  },
  "language_info": {
   "codemirror_mode": {
    "name": "ipython",
    "version": 3
   },
   "file_extension": ".py",
   "mimetype": "text/x-python",
   "name": "python",
   "nbconvert_exporter": "python",
   "pygments_lexer": "ipython3",
   "version": "3.11.9"
  }
 },
 "nbformat": 4,
 "nbformat_minor": 0
}
