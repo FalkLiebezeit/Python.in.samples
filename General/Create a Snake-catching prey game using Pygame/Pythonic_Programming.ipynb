{
 "cells": [
  {
   "cell_type": "markdown",
   "metadata": {
    "id": "WtkRMD2pvtVs"
   },
   "source": [
    "Idiomatic Python code\n"
   ]
  },
  {
   "cell_type": "code",
   "execution_count": 1,
   "metadata": {
    "id": "1vkaE0iNyKTf"
   },
   "outputs": [],
   "source": [
    "#Non-Pythonic/non- Idiomatic code\n",
    "\n",
    "sum_of_squares = 0\n",
    "for number in range(1, 11):\n",
    "  if number % 2 == 0:\n",
    "    sum_of_squares += number**2"
   ]
  },
  {
   "cell_type": "code",
   "execution_count": 2,
   "metadata": {
    "id": "-iba-5OV0L7j"
   },
   "outputs": [
    {
     "data": {
      "text/plain": [
       "220"
      ]
     },
     "execution_count": 2,
     "metadata": {},
     "output_type": "execute_result"
    }
   ],
   "source": [
    " #Pythonic/Idiomatic code\n",
    "\n",
    "sum_of_squares = sum(x** 2 for x in range(2, 11, 2))\n",
    "\n",
    "sum_of_squares"
   ]
  },
  {
   "cell_type": "markdown",
   "metadata": {
    "id": "zP2Fe1EV0lCa"
   },
   "source": [
    "List comprehensions"
   ]
  },
  {
   "cell_type": "code",
   "execution_count": 3,
   "metadata": {
    "colab": {
     "base_uri": "https://localhost:8080/"
    },
    "id": "Dn6Ck80p0l1R",
    "outputId": "1bd6a579-f4a3-4280-97fc-fe0cefccf191"
   },
   "outputs": [
    {
     "data": {
      "text/plain": [
       "[1, 4, 9, 16, 25]"
      ]
     },
     "execution_count": 3,
     "metadata": {},
     "output_type": "execute_result"
    }
   ],
   "source": [
    "#Generating a list of squares\n",
    "\n",
    "squares = [x ** 2 for x in range(1, 6)]\n",
    "squares"
   ]
  },
  {
   "cell_type": "code",
   "execution_count": 4,
   "metadata": {
    "colab": {
     "base_uri": "https://localhost:8080/"
    },
    "id": "OtJ-NyJf0ovc",
    "outputId": "cd92f5f4-f879-46e8-bf01-53a1fd54bb08"
   },
   "outputs": [
    {
     "data": {
      "text/plain": [
       "[2, 4, 6, 8, 10]"
      ]
     },
     "execution_count": 4,
     "metadata": {},
     "output_type": "execute_result"
    }
   ],
   "source": [
    "#Filtering even numbers\n",
    "\n",
    "\n",
    "even_numbers = [x for x in range(1, 11) if x % 2 == 0]\n",
    "even_numbers\n"
   ]
  },
  {
   "cell_type": "code",
   "execution_count": 5,
   "metadata": {
    "id": "IXFq61XF0urk"
   },
   "outputs": [
    {
     "data": {
      "text/plain": [
       "['H', 'e', 'l', 'l', 'o', 'W', 'o', 'r', 'l', 'd']"
      ]
     },
     "execution_count": 5,
     "metadata": {},
     "output_type": "execute_result"
    }
   ],
   "source": [
    "#Transforming a string\n",
    "\n",
    "\n",
    "text = \"Hello, World!\"\n",
    "letters = [char for char in text if char.isalpha()]\n",
    "letters"
   ]
  },
  {
   "cell_type": "code",
   "execution_count": 6,
   "metadata": {
    "id": "126qLNUR0vet"
   },
   "outputs": [
    {
     "data": {
      "text/plain": [
       "[(1, 10),\n",
       " (1, 20),\n",
       " (1, 30),\n",
       " (2, 10),\n",
       " (2, 20),\n",
       " (2, 30),\n",
       " (3, 10),\n",
       " (3, 20),\n",
       " (3, 30)]"
      ]
     },
     "execution_count": 6,
     "metadata": {},
     "output_type": "execute_result"
    }
   ],
   "source": [
    "# Nested list comprehension\n",
    "\n",
    "\n",
    "list1 = [1, 2, 3]\n",
    "list2 = [10, 20, 30]\n",
    "pairs = [(x, y) for x in list1 for y in list2]\n",
    "\n",
    "pairs"
   ]
  },
  {
   "cell_type": "markdown",
   "metadata": {
    "id": "CFAmbplS1qgH"
   },
   "source": [
    "Iterators"
   ]
  },
  {
   "cell_type": "code",
   "execution_count": 7,
   "metadata": {
    "id": "kOw7chOW1sL0"
   },
   "outputs": [
    {
     "name": "stdout",
     "output_type": "stream",
     "text": [
      "1\n",
      "2\n",
      "3\n",
      "4\n"
     ]
    }
   ],
   "source": [
    "class MyIterator:\n",
    "\n",
    "  def __init__(self, start, end):\n",
    "    self.start = start\n",
    "    self.end = end\n",
    "\n",
    "  def __iter__(self):\n",
    "    return self\n",
    "\n",
    "  def __next__(self):\n",
    "    if self.start < self.end:\n",
    "      value = self.start\n",
    "      self.start += 1\n",
    "      return value\n",
    "    raise StopIteration\n",
    "\n",
    "# Using the iterator\n",
    "my_iterator = MyIterator(1, 5)\n",
    "for item in my_iterator:\n",
    "  print(item)"
   ]
  },
  {
   "cell_type": "markdown",
   "metadata": {
    "id": "6LPITc_p1vrW"
   },
   "source": [
    "Generators"
   ]
  },
  {
   "cell_type": "code",
   "execution_count": 8,
   "metadata": {
    "id": "UgzD2zrJ1v6N"
   },
   "outputs": [
    {
     "name": "stdout",
     "output_type": "stream",
     "text": [
      "1\n",
      "2\n",
      "3\n",
      "4\n"
     ]
    }
   ],
   "source": [
    "def my_generator(start, end):\n",
    "  while start < end:\n",
    "    yield start\n",
    "    start += 1\n",
    "\n",
    "# Using the generator\n",
    "gen = my_generator(1, 5)\n",
    "for item in gen:\n",
    "  print(item)"
   ]
  },
  {
   "cell_type": "markdown",
   "metadata": {
    "id": "BBJRsSMs1ylR"
   },
   "source": [
    "Decorators"
   ]
  },
  {
   "cell_type": "code",
   "execution_count": 9,
   "metadata": {
    "id": "Kh1e58Ou11S9"
   },
   "outputs": [
    {
     "name": "stdout",
     "output_type": "stream",
     "text": [
      "some_function took 2.0035250186920166 seconds to run.\n"
     ]
    }
   ],
   "source": [
    "import time\n",
    "\n",
    "\n",
    "def measure_time(func):\n",
    "  def wrapper(*args, **kwargs):\n",
    "    start_time = time.time()\n",
    "    result = func(*args, **kwargs)\n",
    "    end_time = time.time()\n",
    "    print(f\"{func.__name__} took {end_time - start_time} seconds to run.\")\n",
    "    return result\n",
    "  return wrapper\n",
    "\n",
    "\n",
    "@measure_time\n",
    "def some_function():\n",
    "  time.sleep(2)\n",
    "\n",
    "\n",
    "\n",
    "some_function()"
   ]
  },
  {
   "cell_type": "code",
   "execution_count": 10,
   "metadata": {
    "id": "t0V3iRux12Pn"
   },
   "outputs": [
    {
     "name": "stdout",
     "output_type": "stream",
     "text": [
      "Alice\n",
      "30\n"
     ]
    }
   ],
   "source": [
    "#Class decorator to automatically add properties to a class\n",
    "\n",
    "def add_properties (properties):\n",
    "  def decorator(cls):\n",
    "    for prop in properties:\n",
    "      setattr(cls, prop, property(lambda self, prop=prop: self.data[prop]))\n",
    "    return cls\n",
    "  return decorator\n",
    "\n",
    "\n",
    "@add_properties([\"name\", \"age\"])\n",
    "class Person:\n",
    "      def __init__(self, name, age):\n",
    "        self.data = {\"name\": name, \"age\": age}\n",
    "\n",
    "\n",
    "person = Person(\"Alice\", 30)\n",
    "print(person.name) # Accessing the property\n",
    "print(person.age)"
   ]
  }
 ],
 "metadata": {
  "colab": {
   "provenance": []
  },
  "kernelspec": {
   "display_name": "Python 3",
   "name": "python3"
  },
  "language_info": {
   "codemirror_mode": {
    "name": "ipython",
    "version": 3
   },
   "file_extension": ".py",
   "mimetype": "text/x-python",
   "name": "python",
   "nbconvert_exporter": "python",
   "pygments_lexer": "ipython3",
   "version": "3.11.9"
  }
 },
 "nbformat": 4,
 "nbformat_minor": 0
}
