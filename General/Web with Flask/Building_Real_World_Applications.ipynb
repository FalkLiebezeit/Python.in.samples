{
 "cells": [
  {
   "cell_type": "markdown",
   "metadata": {
    "id": "SvfAL6JxwVYv"
   },
   "source": [
    "Developing a web application"
   ]
  },
  {
   "cell_type": "code",
   "execution_count": 1,
   "metadata": {
    "id": "QfnsUhh5waIl"
   },
   "outputs": [
    {
     "ename": "ModuleNotFoundError",
     "evalue": "No module named 'flask'",
     "output_type": "error",
     "traceback": [
      "\u001b[1;31m---------------------------------------------------------------------------\u001b[0m",
      "\u001b[1;31mModuleNotFoundError\u001b[0m                       Traceback (most recent call last)",
      "Cell \u001b[1;32mIn[1], line 3\u001b[0m\n\u001b[0;32m      1\u001b[0m \u001b[38;5;66;03m#app.py\u001b[39;00m\n\u001b[1;32m----> 3\u001b[0m \u001b[38;5;28;01mfrom\u001b[39;00m \u001b[38;5;21;01mflask\u001b[39;00m \u001b[38;5;28;01mimport\u001b[39;00m Flask\n\u001b[0;32m      6\u001b[0m app \u001b[38;5;241m=\u001b[39m Flask(\u001b[38;5;18m__name__\u001b[39m)\n\u001b[0;32m      8\u001b[0m \u001b[38;5;129m@app\u001b[39m\u001b[38;5;241m.\u001b[39mroute(\u001b[38;5;124m'\u001b[39m\u001b[38;5;124m/\u001b[39m\u001b[38;5;124m'\u001b[39m)\n\u001b[0;32m      9\u001b[0m \u001b[38;5;28;01mdef\u001b[39;00m \u001b[38;5;21mhome\u001b[39m():\n",
      "\u001b[1;31mModuleNotFoundError\u001b[0m: No module named 'flask'"
     ]
    }
   ],
   "source": [
    "#app.py\n",
    "\n",
    "from flask import Flask\n",
    "\n",
    "\n",
    "app = Flask(__name__)\n",
    "\n",
    "@app.route('/')\n",
    "def home():\n",
    "  return 'Hello, world! This is my first Flask web application.'\n",
    "\n",
    "if __name__ == '__main__':\n",
    "  app.run(debug=True)"
   ]
  },
  {
   "cell_type": "markdown",
   "metadata": {
    "id": "PKN9jcEcwwF5"
   },
   "source": [
    "Building a desktop application"
   ]
  },
  {
   "cell_type": "code",
   "execution_count": null,
   "metadata": {
    "id": "6WcwKRAjwfOb"
   },
   "outputs": [],
   "source": [
    "#todo_app\n",
    "\n",
    "\n",
    "import tkinter as tk\n",
    "\n",
    "def add_task():\n",
    "  task = entry.get()\n",
    "  if task:\n",
    "    listbox.insert(tk.END, task)\n",
    "    entry.delete(0, tk.END)\n",
    "\n",
    "#Create the main window\n",
    "app = tk.Tk()\n",
    "app.title(\"To-Do List\")\n",
    "\n",
    "#Entry for task input\n",
    "entry = tk. Entry(app, width=40)\n",
    "entry.pack(pady=10)\n",
    "\n",
    "#Button to add tasks\n",
    "add_button = tk.Button(app, text=\"Add Task\", command=add_task)\n",
    "add_button.pack(pady=10)\n",
    "\n",
    "#Listbox to display tasks\n",
    "listbox = tk.Listbox(app, selectbackground=\"yellow\")\n",
    "listbox.pack()\n",
    "\n",
    "app.mainloop()"
   ]
  },
  {
   "cell_type": "markdown",
   "metadata": {
    "id": "J_tL-2oyywUq"
   },
   "source": [
    "Creating a data analysis project"
   ]
  },
  {
   "cell_type": "code",
   "execution_count": null,
   "metadata": {
    "id": "nr19EDaNyw89"
   },
   "outputs": [],
   "source": [
    "#sales_analysis.py\n",
    "\n",
    "import pandas as pd\n",
    "\n",
    "#Sample sales data\n",
    "data = {\n",
    "    'Product': ['A', 'B', 'C', 'A', 'B', 'C'],\n",
    "    'Sales': [100, 150, 200, 120, 180, 220],\n",
    "    }\n",
    "\n",
    "#Create a DataFrame\n",
    "df = pd.DataFrame(data)\n",
    "\n",
    "#Group by product and calculate total sales\n",
    "total_sales = df.groupby('Product')['Sales'].sum()\n",
    "\n",
    "print(total_sales)"
   ]
  }
 ],
 "metadata": {
  "colab": {
   "provenance": []
  },
  "kernelspec": {
   "display_name": "Python 3",
   "name": "python3"
  },
  "language_info": {
   "codemirror_mode": {
    "name": "ipython",
    "version": 3
   },
   "file_extension": ".py",
   "mimetype": "text/x-python",
   "name": "python",
   "nbconvert_exporter": "python",
   "pygments_lexer": "ipython3",
   "version": "3.11.9"
  }
 },
 "nbformat": 4,
 "nbformat_minor": 0
}
