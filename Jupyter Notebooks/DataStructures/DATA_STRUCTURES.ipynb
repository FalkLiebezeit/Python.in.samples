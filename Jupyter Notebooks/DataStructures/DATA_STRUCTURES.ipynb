{
 "cells": [
  {
   "cell_type": "markdown",
   "metadata": {
    "id": "_X6cu87vXyWt"
   },
   "source": [
    "**SLICING OF LISTS**"
   ]
  },
  {
   "cell_type": "code",
   "execution_count": 1,
   "metadata": {
    "id": "9g3NCzznXzrA"
   },
   "outputs": [
    {
     "name": "stdout",
     "output_type": "stream",
     "text": [
      "[3, 4, 5, 6]\n",
      "[2, 4, 6, 8]\n",
      "[1, 2, 3, 4, 5]\n"
     ]
    }
   ],
   "source": [
    "#Create a sample list\n",
    "my_list = [1, 2, 3, 4, 5, 6, 7, 8, 9, 10]\n",
    "\n",
    "\n",
    "#Access elements using slicing\n",
    "\n",
    "#Syntax: my_list[start:end:step]\n",
    "subset = my_list[2:6] # Extract elements from index 2 to 5 (end index is exclusive)\n",
    "print(subset) # Output: [3, 4, 5, 6]\n",
    "\n",
    "#You can also specify a step size\n",
    "subset_with_step = my_list[1:8:2] # Extract elements from index 1 to 7 with a step of 2\n",
    "print(subset_with_step) # Output: [2, 4, 6, 8]\n",
    "\n",
    "\n",
    "#Omitting start and end indices If you omit the start index, it defaults to 0.\n",
    "\n",
    "# If you omit the end index, it defaults to the length of the list.\n",
    "partial_list = my_list[:5] # Extract elements from the beginning up to index 4\n",
    "print(partial_list) # Output: [1, 2, 3, 4, 5]\n",
    "\n"
   ]
  },
  {
   "cell_type": "code",
   "execution_count": 2,
   "metadata": {
    "id": "Ra0H9U4-YRcp"
   },
   "outputs": [
    {
     "name": "stdout",
     "output_type": "stream",
     "text": [
      "[8, 9, 10]\n",
      "[10, 9, 8, 7, 6, 5, 4, 3, 2, 1]\n"
     ]
    }
   ],
   "source": [
    "#Negative indices\n",
    "\n",
    "#You can use negative indices to count from the end of the list.\n",
    "last_three = my_list[-3:] # Extract the last three elements\n",
    "print(last_three) # Output: [8, 9, 10]\n",
    "\n",
    "#Reversing a list using slicing\n",
    "\n",
    "reversed_list = my_list[::-1] # Extract all elements with a step of -1 (reverse order)\n",
    "print(reversed_list) # Output: [10, 9, 8, 7, 6, 5, 4, 3, 2, 1"
   ]
  },
  {
   "cell_type": "code",
   "execution_count": 3,
   "metadata": {
    "id": "tK9mPmWGYfIt"
   },
   "outputs": [
    {
     "name": "stdout",
     "output_type": "stream",
     "text": [
      "[3, 4, 5, 6]\n",
      "[2, 4, 6, 8]\n",
      "[1, 2, 3, 4, 5]\n"
     ]
    }
   ],
   "source": [
    "#Create a sample list\n",
    "my_list = [1, 2, 3, 4, 5, 6, 7, 8, 9, 10]\n",
    "\n",
    "#Access elements using slicing\n",
    "#Syntax: my_list[start:end:step]\n",
    "subset = my_list[2:6] # Extract elements from index 2 to 5 (end index is exclusive)\n",
    "print(subset) # Output: [3, 4, 5, 6]\n",
    "\n",
    "\n",
    "#You can also specify a step size\n",
    "subset_with_step = my_list[1:8:2] # Extract elements from index 1 to 7 with a step of 2\n",
    "print(subset_with_step) # Output: [2, 4, 6, 8]\n",
    "\n",
    "\n",
    "\n",
    "#Omitting start and end indices\n",
    "\n",
    "#If you omit the start index, it defaults to 0.\n",
    "\n",
    "#If you omit the end index, it defaults to the length of the list.\n",
    "\n",
    "partial_list = my_list[:5] # Extract elements from the beginning up to index 4\n",
    "print(partial_list) # Output: [1, 2, 3, 4, 5]\n"
   ]
  },
  {
   "cell_type": "code",
   "execution_count": 4,
   "metadata": {
    "id": "zolcn5o7ZHJo"
   },
   "outputs": [
    {
     "name": "stdout",
     "output_type": "stream",
     "text": [
      "[8, 9, 10]\n",
      "[10, 9, 8, 7, 6, 5, 4, 3, 2, 1]\n"
     ]
    }
   ],
   "source": [
    "#Negative indices\n",
    "\n",
    "# You can use negative indices to count from the end of the list.\n",
    "last_three = my_list[-3:] # Extract the last three elements\n",
    "print(last_three) # Output: [8, 9, 10]\n",
    "\n",
    "#Reversing a list using slicing\n",
    "\n",
    "reversed_list = my_list[::-1] # Extract all elements with a step of -1 (reverse order)\n",
    "print(reversed_list) # Output: [10, 9, 8, 7, 6, 5, 4, 3, 2, 1]"
   ]
  },
  {
   "cell_type": "markdown",
   "metadata": {
    "id": "mH-2WiQGZ0Bs"
   },
   "source": [
    "**TUPLES**"
   ]
  },
  {
   "cell_type": "code",
   "execution_count": 5,
   "metadata": {
    "id": "8ASvFQ4CZ--q"
   },
   "outputs": [
    {
     "data": {
      "text/plain": [
       "(1, ('apple', 'orange'), 3.14)"
      ]
     },
     "execution_count": 5,
     "metadata": {},
     "output_type": "execute_result"
    }
   ],
   "source": [
    "#Creating an Empty Tuple:\n",
    "empty_tuple = ()\n",
    "empty_tuple\n",
    "\n",
    "#Creating a Tuple with Different Data Types:\n",
    "mixed_tuple = (1, 'hello', 3.14, True)\n",
    "mixed_tuple\n",
    "\n",
    "#Creating a Tuple with Integers:\n",
    "integer_tuple = (1, 2, 3, 4, 5)\n",
    "integer_tuple\n",
    "\n",
    "\n",
    "#Creating a Tuple with Strings:\n",
    "string_tuple = ('apple', 'banana', 'orange')\n",
    "string_tuple\n",
    "\n",
    "#Creating a Nested Tuple:\n",
    "nested_tuple = (1, ('apple', 'orange'), 3.14)\n",
    "nested_tuple"
   ]
  },
  {
   "cell_type": "code",
   "execution_count": 6,
   "metadata": {
    "id": "1M7CV1ttas4B"
   },
   "outputs": [
    {
     "data": {
      "text/plain": [
       "(0, 0, 0, 0, 0)"
      ]
     },
     "execution_count": 6,
     "metadata": {},
     "output_type": "execute_result"
    }
   ],
   "source": [
    "#Creating a Single-Element Tuple:\n",
    "single_element_tuple = (42,)#Note the trailing comma\n",
    "single_element_tuple\n",
    "\n",
    "#Using the tuple() Constructor:\n",
    "From_list = tuple([1, 2, 3]) # Convert a list to a tuple\n",
    "From_list\n",
    "\n",
    "#Creating a Tuple with Repetition:\n",
    "repeated_tuple = (0,) * 5      # Creates a tuple with five repeated elements\n",
    "repeated_tuple"
   ]
  },
  {
   "cell_type": "code",
   "execution_count": 7,
   "metadata": {
    "id": "JxL9w6FnbqQP"
   },
   "outputs": [
    {
     "ename": "SyntaxError",
     "evalue": "invalid syntax (1322583590.py, line 4)",
     "output_type": "error",
     "traceback": [
      "  \u001b[36mCell\u001b[39m\u001b[36m \u001b[39m\u001b[32mIn[7]\u001b[39m\u001b[32m, line 4\u001b[39m\n\u001b[31m    \u001b[39m\u001b[31mfirst element = my_tuple[0] #Access the first element\u001b[39m\n          ^\n\u001b[31mSyntaxError\u001b[39m\u001b[31m:\u001b[39m invalid syntax\n"
     ]
    }
   ],
   "source": [
    "#Accessing tuple elements\n",
    "my_tuple (\"apple\", 'banana', 'orange', 'grape')\n",
    "\n",
    "first element = my_tuple[0] #Access the first element\n",
    "first_element\n",
    "\n",
    "second element = my_tuple[1] #Access the second element second element\n",
    "second element"
   ]
  },
  {
   "cell_type": "code",
   "execution_count": null,
   "metadata": {
    "id": "nJ4pDeOwcmzZ"
   },
   "outputs": [],
   "source": [
    "#Negative Indexing:\n",
    "last_element = my_tuple[-1] #Access the last element using negative indexing\n",
    "last_element"
   ]
  },
  {
   "cell_type": "code",
   "execution_count": null,
   "metadata": {
    "id": "Z_X83sRjcpRd"
   },
   "outputs": [],
   "source": [
    "#Accessing Nested Elements:\n",
    "nested_tuple = (1, ('apple', 'orange'), 3.14)\n",
    "nested_tuple"
   ]
  },
  {
   "cell_type": "code",
   "execution_count": null,
   "metadata": {
    "id": "f1ZEULe9coCB"
   },
   "outputs": [],
   "source": [
    "#SLicing:\n",
    "sliced_tuple = my_tuple[1:3] #Extract elements from index 1 to 2\n",
    "sliced_tuple"
   ]
  },
  {
   "cell_type": "markdown",
   "metadata": {
    "id": "cwLVv1vfdegS"
   },
   "source": [
    "**SETS**"
   ]
  },
  {
   "cell_type": "code",
   "execution_count": null,
   "metadata": {
    "id": "tv2HNB3VdlWO"
   },
   "outputs": [],
   "source": [
    "#Define two sets\n",
    "set1 = {1, 2, 3, 4, 5}\n",
    "set2 = {3, 4, 5, 6, 7}\n",
    "\n",
    "print(set1)\n",
    "print(set2)"
   ]
  },
  {
   "cell_type": "code",
   "execution_count": null,
   "metadata": {
    "id": "qCbu-mOTiNEP"
   },
   "outputs": [],
   "source": [
    "#Union of the Set\n",
    "\n",
    "union_set = set1.union(set2)\n",
    "print(\"Union \" : union_set)"
   ]
  },
  {
   "cell_type": "code",
   "execution_count": null,
   "metadata": {
    "id": "RiM6hPrGe2L9"
   },
   "outputs": [],
   "source": [
    "#Intersection of two sets\n",
    "\n",
    "intersection_set = set1.intersection(set2)\n",
    "print(\"Intersection:\", intersection_set)"
   ]
  },
  {
   "cell_type": "code",
   "execution_count": null,
   "metadata": {
    "id": "RLm1Q1KZe3kp"
   },
   "outputs": [],
   "source": [
    "#Difference between two sets\n",
    "\n",
    "difference_set1 = set1.difference(set2)\n",
    "difference_set2 = set2.difference(set1)\n",
    "\n",
    "print(\"Difference (set1 set2):\", difference_set1)\n",
    "print(\"Difference (set2 setl):\", difference_set2)"
   ]
  },
  {
   "cell_type": "code",
   "execution_count": null,
   "metadata": {
    "id": "sSigKhu6e5OA"
   },
   "outputs": [],
   "source": [
    "#Symmetric difference between two sets\n",
    "\n",
    "symmetric_difference_set = set1.symmetric_difference(set2)\n",
    "print(\"Symmetric Difference:\", symmetric_difference_set)"
   ]
  },
  {
   "cell_type": "markdown",
   "metadata": {
    "id": "Ags5loqFeXBl"
   },
   "source": [
    "**DICTIONARIES**"
   ]
  },
  {
   "cell_type": "code",
   "execution_count": null,
   "metadata": {
    "id": "nu8L6h_PevGX"
   },
   "outputs": [],
   "source": [
    "#Creating a mutable dictionary\n",
    "\n",
    "person = {\n",
    "    'name': 'Alice',\n",
    "    'age': 25,\n",
    "    'city':'New York',\n",
    "    'job': 'Engineer'\n",
    "\n",
    "}\n",
    "\n",
    "# Accessing values\n",
    "print(\"Name:\", person['name'])\n",
    "print(\"Age:\", person['age'])"
   ]
  },
  {
   "cell_type": "code",
   "execution_count": null,
   "metadata": {
    "id": "lDfTi6PEeWu1"
   },
   "outputs": [],
   "source": [
    "#Modifying values\n",
    "person['age'] = 26\n",
    "print(\"Updated Age:\", person['age'])\n"
   ]
  },
  {
   "cell_type": "code",
   "execution_count": null,
   "metadata": {
    "id": "CFwA6ljMfrZw"
   },
   "outputs": [],
   "source": [
    "#Adding a new key-value pair\n",
    "person['gender'] = 'Female'\n",
    "print(\"Gender:\", person['gender'])\n"
   ]
  },
  {
   "cell_type": "code",
   "execution_count": null,
   "metadata": {
    "id": "RgFZpt5AfxWJ"
   },
   "outputs": [],
   "source": [
    "#Deleting a key-value pair\n",
    "\n",
    "del person['job']\n",
    "print(\"Dictionary after deleting 'job':\", person)\n",
    "\n"
   ]
  },
  {
   "cell_type": "code",
   "execution_count": null,
   "metadata": {
    "id": "dbzP6zyjf4_u"
   },
   "outputs": [],
   "source": [
    "#Checking if a key exists\n",
    "\n",
    "if 'city' in person:\n",
    "  print(\"City:\", person['city'])\n"
   ]
  },
  {
   "cell_type": "code",
   "execution_count": null,
   "metadata": {
    "id": "8oLAZbdugApk"
   },
   "outputs": [],
   "source": [
    "#Iterating through keys and values\n",
    "print(\"Iterating through keys and values:\")\n",
    "for key, value in person.items():\n",
    "  print(f\"{key}: {value}\")"
   ]
  },
  {
   "cell_type": "code",
   "execution_count": null,
   "metadata": {
    "id": "BwwLYB_SgQoA"
   },
   "outputs": [],
   "source": [
    "# Immutable dictionaries\n",
    "\n",
    "\n",
    "from collections import OrderedDict\n",
    "\n",
    "\n",
    "\n",
    "#Creating an ordered dictionary\n",
    "ordered_dict = OrderedDict()\n",
    "\n",
    "ordered_dict['one'] = 1\n",
    "\n",
    "ordered_dict['two'] = 2\n",
    "\n",
    "ordered_dict['three'] = 3\n",
    "\n",
    "\n",
    "#Accessing values\n",
    "\n",
    "print(\"Value for 'two':\", ordered_dict['two'])\n",
    "\n"
   ]
  },
  {
   "cell_type": "code",
   "execution_count": null,
   "metadata": {
    "id": "8aKjinACg5eL"
   },
   "outputs": [],
   "source": [
    "#Iterating through keys and values (maintaining order)\n",
    "\n",
    "print(\"Iterating through keys and values:\")\n",
    "for key, value in ordered_dict.items():\n",
    "  print(f\"{key}: {value}\")\n"
   ]
  }
 ],
 "metadata": {
  "colab": {
   "provenance": []
  },
  "kernelspec": {
   "display_name": ".venv",
   "language": "python",
   "name": "python3"
  },
  "language_info": {
   "codemirror_mode": {
    "name": "ipython",
    "version": 3
   },
   "file_extension": ".py",
   "mimetype": "text/x-python",
   "name": "python",
   "nbconvert_exporter": "python",
   "pygments_lexer": "ipython3",
   "version": "3.13.3"
  }
 },
 "nbformat": 4,
 "nbformat_minor": 0
}
