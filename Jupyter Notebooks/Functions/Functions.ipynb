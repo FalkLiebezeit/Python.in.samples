{
 "cells": [
  {
   "cell_type": "code",
   "execution_count": null,
   "metadata": {
    "id": "ie0C1zPVqNLd"
   },
   "outputs": [],
   "source": [
    "#Function syntax\n",
    "\n",
    "def function_name(parameters):\n",
    "  \"\"\"Docstring (optional)\"\"\"\n",
    "  # Function body (code)\n",
    "  return result (optional)"
   ]
  },
  {
   "cell_type": "markdown",
   "metadata": {
    "id": "Yyj-W66mqpCQ"
   },
   "source": [
    "**Function parameters and arguments**"
   ]
  },
  {
   "cell_type": "code",
   "execution_count": 2,
   "metadata": {
    "id": "j_Dq1UrbskZm"
   },
   "outputs": [],
   "source": [
    "def add_numbers(a, b):\n",
    "  \"\"\"This function adds two numbers.\"\"\"\n",
    "  result = a + b\n",
    "  return result"
   ]
  },
  {
   "cell_type": "code",
   "execution_count": 3,
   "metadata": {
    "colab": {
     "base_uri": "https://localhost:8080/"
    },
    "id": "iFdHCQQVqas_",
    "outputId": "76a55954-e8c5-499e-c5d2-e526ae604cd1"
   },
   "outputs": [
    {
     "name": "stdout",
     "output_type": "stream",
     "text": [
      "8\n"
     ]
    }
   ],
   "source": [
    "#calling  function\n",
    "\n",
    "sum_result = add_numbers(5, 3)\n",
    "print(sum_result) # Output: 8"
   ]
  },
  {
   "cell_type": "code",
   "execution_count": 4,
   "metadata": {
    "id": "yth8BdfPs2sM"
   },
   "outputs": [],
   "source": [
    "#Function argument\n",
    "def add(a, b):\n",
    "  return a + b\n",
    "\n",
    "result = add(3, 4) # a=3, b=4"
   ]
  },
  {
   "cell_type": "code",
   "execution_count": 5,
   "metadata": {
    "colab": {
     "base_uri": "https://localhost:8080/"
    },
    "id": "6Tzu4_VttEH-",
    "outputId": "155cf954-402a-44c8-e1bd-4d2cb4c39a2a"
   },
   "outputs": [
    {
     "name": "stdout",
     "output_type": "stream",
     "text": [
      "Hi,Alice!\n"
     ]
    }
   ],
   "source": [
    "#Keyword argument\n",
    "def greet(name, greeting):\n",
    "  print(greeting + \",\" + name + \"!\")\n",
    "\n",
    "greet(greeting=\"Hi\", name=\"Alice\")"
   ]
  },
  {
   "cell_type": "code",
   "execution_count": 6,
   "metadata": {
    "colab": {
     "base_uri": "https://localhost:8080/"
    },
    "id": "jNwy-SfgtMsu",
    "outputId": "cd3d83c4-8326-45fe-e336-f5dfc2a0159f"
   },
   "outputs": [
    {
     "name": "stdout",
     "output_type": "stream",
     "text": [
      "Hello,Bob!\n"
     ]
    }
   ],
   "source": [
    "#Default argument\n",
    "def greet(name, greeting=\"Hello\"):\n",
    "  print(greeting + \",\" + name + \"!\")\n",
    "\n",
    "greet(\"Bob\") # Uses default greeting \"Hello\""
   ]
  },
  {
   "cell_type": "code",
   "execution_count": 7,
   "metadata": {
    "colab": {
     "base_uri": "https://localhost:8080/"
    },
    "id": "_WdYLlDdtaS-",
    "outputId": "c1a0dea7-83fa-4305-b68b-b3b6e0bfc650"
   },
   "outputs": [
    {
     "name": "stdout",
     "output_type": "stream",
     "text": [
      "1\n",
      "2\n",
      "3\n",
      "Hello\n"
     ]
    }
   ],
   "source": [
    "#Arbitrary argument\n",
    "def print_values (*args):\n",
    "  for arg in args:\n",
    "    print(arg)\n",
    "\n",
    "print_values(1, 2, 3, \"Hello\")"
   ]
  },
  {
   "cell_type": "code",
   "execution_count": 8,
   "metadata": {
    "colab": {
     "base_uri": "https://localhost:8080/"
    },
    "id": "kapUM5z9tk5W",
    "outputId": "7ce0d933-68bd-4d66-cf47-d6033bf5a0d5"
   },
   "outputs": [
    {
     "name": "stdout",
     "output_type": "stream",
     "text": [
      "The sum is: 8\n"
     ]
    }
   ],
   "source": [
    "# Function with return value\n",
    "def add_numbers(a, b):\n",
    "  result = a + b\n",
    "  return result\n",
    "\n",
    "#Calling the function and assigning the result to a variable\n",
    "sum_result = add_numbers(5, 3)\n",
    "\n",
    "#Printing the result\n",
    "print(\"The sum is:\", sum_result) # Output: The sum is: 8"
   ]
  },
  {
   "cell_type": "code",
   "execution_count": null,
   "metadata": {
    "colab": {
     "base_uri": "https://localhost:8080/"
    },
    "id": "2_I6-hUqt_Ak",
    "outputId": "742ef9d8-3566-4913-834e-36b9fc199e1c"
   },
   "outputs": [
    {
     "name": "stdout",
     "output_type": "stream",
     "text": [
      "None\n"
     ]
    }
   ],
   "source": [
    "# Function with default return value\n",
    "def do_nothing():\n",
    "  pass # This function does nothing\n",
    "\n",
    "result = do_nothing()\n",
    "print(result) # Output: None"
   ]
  },
  {
   "cell_type": "code",
   "execution_count": 10,
   "metadata": {
    "colab": {
     "base_uri": "https://localhost:8080/"
    },
    "id": "010doC1ouN1x",
    "outputId": "3a255429-14e0-43bf-c391-01cd0b427e75"
   },
   "outputs": [
    {
     "name": "stdout",
     "output_type": "stream",
     "text": [
      "None\n"
     ]
    }
   ],
   "source": [
    "#Function with none return value\n",
    "def return_none():\n",
    "  return None\n",
    "\n",
    "result = return_none()\n",
    "print(result) # Output: None"
   ]
  },
  {
   "cell_type": "markdown",
   "metadata": {
    "id": "62xzIffNua8h"
   },
   "source": [
    "**Lambda functions**"
   ]
  },
  {
   "cell_type": "code",
   "execution_count": 11,
   "metadata": {
    "colab": {
     "base_uri": "https://localhost:8080/"
    },
    "id": "dtgjraIYuZW_",
    "outputId": "b4cd7bcf-7a17-46ee-f140-5cf62585c9fc"
   },
   "outputs": [
    {
     "data": {
      "text/plain": [
       "<function __main__.<lambda>(arguments)>"
      ]
     },
     "execution_count": 11,
     "metadata": {},
     "output_type": "execute_result"
    }
   ],
   "source": [
    "#Lambda function\n",
    "lambda arguments: expression"
   ]
  },
  {
   "cell_type": "code",
   "execution_count": 8,
   "metadata": {
    "colab": {
     "base_uri": "https://localhost:8080/"
    },
    "id": "rL3ckm01uo6A",
    "outputId": "58b3aa41-8502-41f3-f0d7-9439a0532244"
   },
   "outputs": [
    {
     "name": "stdout",
     "output_type": "stream",
     "text": [
      "Result of add: 9\n"
     ]
    }
   ],
   "source": [
    "\n",
    "#Basic Lambda function to add two numbers\n",
    "\n",
    "add = lambda x, y: x + y\n",
    "result = add(3, 6)\n",
    "\n",
    "print(\"Result of add:\", result)"
   ]
  },
  {
   "cell_type": "code",
   "execution_count": 9,
   "metadata": {
    "colab": {
     "base_uri": "https://localhost:8080/"
    },
    "id": "NfooD43Tu3TM",
    "outputId": "5444df7f-7737-4e54-9868-60af5d01267c"
   },
   "outputs": [
    {
     "name": "stdout",
     "output_type": "stream",
     "text": [
      "Original numbers: [1, 2, 3, 4, 5, 6, 7, 8, 9, 10]\n",
      "Even numbers: [2, 4, 6, 8, 10]\n"
     ]
    }
   ],
   "source": [
    "#Filter with lambda\n",
    "\n",
    "\n",
    "#List of numbers\n",
    "numbers = [1, 2, 3, 4, 5, 6, 7, 8, 9, 10]\n",
    "\n",
    "# Filtering even numbers using Lambda and filter\n",
    "even_numbers = list(filter(lambda x: x % 2 == 0, numbers))\n",
    "\n",
    "#Print the result\n",
    "print(\"Original numbers:\", numbers)\n",
    "print(\"Even numbers:\", even_numbers)\n"
   ]
  },
  {
   "cell_type": "code",
   "execution_count": 11,
   "metadata": {
    "colab": {
     "base_uri": "https://localhost:8080/"
    },
    "id": "R5rnxvTuvRFb",
    "outputId": "ec4ac059-77d9-4111-b37c-1e42c004f95a"
   },
   "outputs": [
    {
     "name": "stdout",
     "output_type": "stream",
     "text": [
      "Original numbers: [1, 2, 3, 4, 5]\n",
      "Squared numbers: [1, 4, 9, 16, 25]\n"
     ]
    }
   ],
   "source": [
    "#Map with lambda\n",
    "\n",
    "\n",
    "# List of numbers\n",
    "numbers = [1, 2, 3, 4, 5]\n",
    "\n",
    "#Mapping each number to its square using Lambda and map\n",
    "squared_numbers = list(map(lambda x: x**2, numbers))\n",
    "\n",
    "#Print the result\n",
    "print(\"Original numbers:\", numbers)\n",
    "print(\"Squared numbers:\", squared_numbers)"
   ]
  },
  {
   "cell_type": "code",
   "execution_count": 12,
   "metadata": {
    "colab": {
     "base_uri": "https://localhost:8080/"
    },
    "id": "uVNwVsQzvbl1",
    "outputId": "f45a8ca3-16ae-41e5-a5c2-2fd680c9af68"
   },
   "outputs": [
    {
     "name": "stdout",
     "output_type": "stream",
     "text": [
      "Original pairs: [(1, 5), (2, 3), (4, 1), (3, 7)]\n",
      "Sorted pairs based on the second element: [(4, 1), (2, 3), (1, 5), (3, 7)]\n"
     ]
    }
   ],
   "source": [
    "#Sorting with lambda\n",
    "\n",
    "\n",
    "#List of tuples\n",
    "pairs = [(1, 5), (2, 3), (4, 1), (3, 7)]\n",
    "\n",
    "# Sorting tuples based on the second element using Lambda and sorted\n",
    "sorted_pairs = sorted(pairs, key = lambda x: x[1])\n",
    "\n",
    "#Print the result\n",
    "print(\"Original pairs:\", pairs)\n",
    "print(\"Sorted pairs based on the second element:\", sorted_pairs)"
   ]
  },
  {
   "cell_type": "code",
   "execution_count": 7,
   "metadata": {
    "colab": {
     "base_uri": "https://localhost:8080/"
    },
    "id": "MQxyLjK2wR4d",
    "outputId": "9722bb1e-5503-4e0b-d300-6ab5a27fb3ac"
   },
   "outputs": [
    {
     "name": "stdout",
     "output_type": "stream",
     "text": [
      "Original numbers: [1, 2, 3, 4, 5]\n",
      "Product of numbers: 120\n"
     ]
    }
   ],
   "source": [
    "#Reduce function with lambda\n",
    "\n",
    "\n",
    "from functools import reduce\n",
    "\n",
    "#List of numbers\n",
    "numbers = [1, 2, 3, 4, 5]\n",
    "\n",
    "#Using Lambda function with reduce to calculate the product of numbers\n",
    "product = reduce(lambda x, y: x * y, numbers)\n",
    "\n",
    "#Print the result\n",
    "print(\"Original numbers:\", numbers)\n",
    "print(\"Product of numbers:\", product)"
   ]
  },
  {
   "cell_type": "markdown",
   "metadata": {
    "id": "gnXyZdpzwmZ-"
   },
   "source": [
    "**Recursion**"
   ]
  },
  {
   "cell_type": "code",
   "execution_count": 6,
   "metadata": {
    "colab": {
     "base_uri": "https://localhost:8080/"
    },
    "id": "NqweUvM0wqaI",
    "outputId": "d2b0964d-2706-45ab-8493-8bd49eee2d9c"
   },
   "outputs": [
    {
     "name": "stdout",
     "output_type": "stream",
     "text": [
      "Factorial of 5: 120\n"
     ]
    }
   ],
   "source": [
    "def factorial(n):\n",
    "  \"\"\"\n",
    "  Recursive function to calculate the factorial of a number.\n",
    "  Parameters:\n",
    "  -n (int): The number for which the factorial is calculated.\n",
    "\n",
    "  Returns:\n",
    "  -int: The factorial of the given number.\n",
    "  \"\"\"\n",
    "  #Base case: factorial of 0 or 1 is 1\n",
    "  if n==0 or n==1:\n",
    "    return 1\n",
    "  else:\n",
    "    #Recursive case: n! = n*(n-1)!\n",
    "    return n * factorial(n-1)\n",
    "\n",
    "#Example usage:\n",
    "print(\"Factorial of 5:\", factorial(5))"
   ]
  },
  {
   "cell_type": "code",
   "execution_count": null,
   "metadata": {
    "id": "eP4AICP_xAON"
   },
   "outputs": [],
   "source": []
  }
 ],
 "metadata": {
  "colab": {
   "provenance": []
  },
  "kernelspec": {
   "display_name": ".venv",
   "language": "python",
   "name": "python3"
  },
  "language_info": {
   "codemirror_mode": {
    "name": "ipython",
    "version": 3
   },
   "file_extension": ".py",
   "mimetype": "text/x-python",
   "name": "python",
   "nbconvert_exporter": "python",
   "pygments_lexer": "ipython3",
   "version": "3.13.3"
  }
 },
 "nbformat": 4,
 "nbformat_minor": 0
}
