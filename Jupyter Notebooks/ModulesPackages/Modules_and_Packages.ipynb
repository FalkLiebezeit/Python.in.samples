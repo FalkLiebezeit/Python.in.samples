{
  "cells": [
    {
      "cell_type": "code",
      "execution_count": 1,
      "metadata": {
        "id": "bG7W4yHVKngC"
      },
      "outputs": [],
      "source": [
        "#Creating a module\n",
        "\n",
        "#rectangle.py\n",
        "\n",
        "def calculate_area(length, width):\n",
        "  \"Calculate the area of a rectangle.\"\"\"\n",
        "  return length * width\n"
      ]
    },
    {
      "cell_type": "code",
      "execution_count": 2,
      "metadata": {
        "id": "UV2-XLJFYBmS"
      },
      "outputs": [
        {
          "ename": "ModuleNotFoundError",
          "evalue": "No module named 'rectangle'",
          "output_type": "error",
          "traceback": [
            "\u001b[31m---------------------------------------------------------------------------\u001b[39m",
            "\u001b[31mModuleNotFoundError\u001b[39m                       Traceback (most recent call last)",
            "\u001b[36mCell\u001b[39m\u001b[36m \u001b[39m\u001b[32mIn[2]\u001b[39m\u001b[32m, line 7\u001b[39m\n\u001b[32m      1\u001b[39m \u001b[38;5;66;03m#Using the module\u001b[39;00m\n\u001b[32m      2\u001b[39m \n\u001b[32m      3\u001b[39m \u001b[38;5;66;03m#use the module created above as rectangle.py\u001b[39;00m\n\u001b[32m----> \u001b[39m\u001b[32m7\u001b[39m \u001b[38;5;28;01mimport\u001b[39;00m\u001b[38;5;250m \u001b[39m\u001b[34;01mrectangle\u001b[39;00m\n\u001b[32m      9\u001b[39m length =  \u001b[32m5\u001b[39m\n\u001b[32m     10\u001b[39m width= \u001b[32m3\u001b[39m\n",
            "\u001b[31mModuleNotFoundError\u001b[39m: No module named 'rectangle'"
          ]
        }
      ],
      "source": [
        "#Using the module\n",
        "\n",
        "#use the module created above as rectangle.py\n",
        "\n",
        "\n",
        "\n",
        "import rectangle\n",
        "\n",
        "length =  5\n",
        "width= 3\n",
        "\n",
        "area = rectangle.calculate_area(length, width)\n",
        "print(f\"The area of the rectangle is {area} square units.\")"
      ]
    },
    {
      "cell_type": "code",
      "execution_count": null,
      "metadata": {
        "id": "xfAFSf3nKolG"
      },
      "outputs": [],
      "source": [
        "#create a simple module named calculator\n",
        "\n",
        "#calculator.py\n",
        "\n",
        "def add(x, y):\n",
        "  return x + y\n",
        "\n",
        "def subtract(x, y):\n",
        "  return x - y\n",
        "\n",
        "def multiply(x, y):\n",
        "  return x * y\n",
        "\n",
        "def divide(x, y):\n",
        "  if y != 0:\n",
        "    return x / y\n",
        "  else:\n",
        "    return \"Error: Division by zero!\""
      ]
    },
    {
      "cell_type": "code",
      "execution_count": null,
      "metadata": {
        "id": "k-JZMArEbp7e"
      },
      "outputs": [],
      "source": [
        "#Import the calculator module\n",
        "\n",
        "\n",
        "#main.py\n",
        "import calculator\n",
        "\n",
        "#Using functions from the calculator module\n",
        "print(\"Addition:\", calculator.add(5, 3))\n",
        "print(\"Subtraction:\", calculator.subtract(10,4))\n",
        "print(\"Multiplication:\", calculator.multiply(7, 2))\n",
        "print(\"Division:\", calculator.divide(15, 3))"
      ]
    },
    {
      "cell_type": "code",
      "execution_count": null,
      "metadata": {
        "id": "AP2fzNBgdBlK"
      },
      "outputs": [],
      "source": [
        "#Calling calculate_area function from the rectangle module\n",
        "\n",
        "\n",
        "import rectangle\n",
        "length = 5\n",
        "width = 3\n",
        "\n",
        "area = rectangle.calculate_area(length, width)\n",
        "print(f\"The area of the rectangle is {area} square units.\")"
      ]
    },
    {
      "cell_type": "code",
      "execution_count": null,
      "metadata": {
        "id": "WTtOtBBTdggl"
      },
      "outputs": [],
      "source": [
        "#Renaming imports\n",
        "#importing rectangle module as alias\n",
        "\n",
        "import rectangle as rt\n",
        "\n",
        "length = 5\n",
        "width = 3\n",
        "\n",
        "area = rt.calculate_area(length, width)\n",
        "\n",
        "print(f\"The area of the rectangle is {area} square units.\")\n"
      ]
    },
    {
      "cell_type": "code",
      "execution_count": null,
      "metadata": {
        "id": "plvuzatSdjdK"
      },
      "outputs": [],
      "source": [
        "#Standard library modules\n",
        "\n",
        "\n",
        "import math\n",
        "\n",
        "number = 25\n",
        "square_root = math.sqrt(number)\n",
        "\n",
        "print(f\"The square root of {number} is {square_root}.\")"
      ]
    }
  ],
  "metadata": {
    "colab": {
      "provenance": []
    },
    "kernelspec": {
      "display_name": ".venv",
      "language": "python",
      "name": "python3"
    },
    "language_info": {
      "codemirror_mode": {
        "name": "ipython",
        "version": 3
      },
      "file_extension": ".py",
      "mimetype": "text/x-python",
      "name": "python",
      "nbconvert_exporter": "python",
      "pygments_lexer": "ipython3",
      "version": "3.13.3"
    }
  },
  "nbformat": 4,
  "nbformat_minor": 0
}
