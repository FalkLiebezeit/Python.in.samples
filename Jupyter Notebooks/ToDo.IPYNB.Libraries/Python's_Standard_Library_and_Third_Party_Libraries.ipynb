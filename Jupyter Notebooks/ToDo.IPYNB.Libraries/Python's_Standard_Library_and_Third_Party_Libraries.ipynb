{
 "cells": [
  {
   "cell_type": "markdown",
   "metadata": {
    "id": "P-KA3MiieU--"
   },
   "source": [
    "**Built-in functions**"
   ]
  },
  {
   "cell_type": "code",
   "execution_count": 1,
   "metadata": {
    "id": "nZnOd2-meWPU"
   },
   "outputs": [
    {
     "name": "stdout",
     "output_type": "stream",
     "text": [
      "Length of the list: 5\n",
      "Generated numbers: [0, 1, 2, 3, 4]\n",
      "Hello, Python!\n"
     ]
    }
   ],
   "source": [
    "#Example: Using len() to get the length of a list\n",
    "\n",
    "my_list = [1, 2, 3, 4, 5]\n",
    "length = len(my_list)\n",
    "print(f\"Length of the list: {length}\")\n",
    "\n",
    "\n",
    "#Example: Using range() to generate a sequence of numbers\n",
    "numbers = list(range(5))\n",
    "print (f\"Generated numbers: {numbers}\")\n",
    "\n",
    "\n",
    "#Example: Using print() to display output\n",
    "print(\"Hello, Python!\")"
   ]
  },
  {
   "cell_type": "code",
   "execution_count": 2,
   "metadata": {
    "id": "XcJaIg-ae2nM"
   },
   "outputs": [
    {
     "name": "stdout",
     "output_type": "stream",
     "text": [
      "Current time: 2024-11-08 21:41:07.639709\n",
      "Square root of 25: 5.0\n",
      "Count of each element: Counter({1: 2, 2: 2, 4: 2, 3: 1, 5: 1})\n"
     ]
    }
   ],
   "source": [
    "#Data types\n",
    "\n",
    "\n",
    "#Example: Working with dates and times using datetime\n",
    "from datetime import datetime\n",
    "current_time = datetime.now()\n",
    "print(f\"Current time: {current_time}\")\n",
    "\n",
    "\n",
    "#Example: Mathematical operations using math\n",
    "import math\n",
    "result = math.sqrt(25)\n",
    "print(f\"Square root of 25: {result}\")\n",
    "\n",
    "\n",
    "#Example: Using collections for specialized data structures\n",
    "from collections import Counter\n",
    "my_list = [1, 2, 3, 1, 2, 4, 5, 4]\n",
    "counter = Counter(my_list)\n",
    "print(f\"Count of each element: {counter}\")"
   ]
  },
  {
   "cell_type": "code",
   "execution_count": 3,
   "metadata": {
    "id": "Rb7Tr1s3g6D-"
   },
   "outputs": [
    {
     "name": "stdout",
     "output_type": "stream",
     "text": [
      "File exists.\n"
     ]
    }
   ],
   "source": [
    "#File and Directory operations\n",
    "\n",
    "\n",
    "#Example: Creating and writing to a file using io\n",
    "with open('example.txt', 'w') as file:\n",
    "  file.write('Hello, Python!')\n",
    "\n",
    "#Example: Using os to check file existence\n",
    "import os\n",
    "if os.path.exists('example.txt'):\n",
    "  print('File exists.')"
   ]
  },
  {
   "cell_type": "code",
   "execution_count": 4,
   "metadata": {
    "id": "MeWuRYkdhZqv"
   },
   "outputs": [
    {
     "ename": "SyntaxError",
     "evalue": "invalid syntax (3914721175.py, line 6)",
     "output_type": "error",
     "traceback": [
      "\u001b[1;36m  Cell \u001b[1;32mIn[4], line 6\u001b[1;36m\u001b[0m\n\u001b[1;33m    server_socket socket.socket(socket.AF_INET, socket.SOCK_STREAM)\u001b[0m\n\u001b[1;37m                  ^\u001b[0m\n\u001b[1;31mSyntaxError\u001b[0m\u001b[1;31m:\u001b[0m invalid syntax\n"
     ]
    }
   ],
   "source": [
    "#Networking\n",
    "\n",
    "#Example: Creating a simple server using socket\n",
    "\n",
    "import socket\n",
    "server_socket socket.socket(socket.AF_INET, socket.SOCK_STREAM)\n",
    "server_socket.bind(('localhost', 12345))\n",
    "server_socket.listen(5)"
   ]
  },
  {
   "cell_type": "code",
   "execution_count": null,
   "metadata": {
    "id": "Ixg3P3VXhoDH"
   },
   "outputs": [],
   "source": [
    "#Threading and concurrency\n",
    "\n",
    "#Example: Using threading to run multiple threads\n",
    "\n",
    "\n",
    "import threading\n",
    "def print_numbers():\n",
    "  for i in range(5):\n",
    "    print(i)\n",
    "\n",
    "thread = threading.Thread(target = print_numbers)\n",
    "\n",
    "thread.start()"
   ]
  },
  {
   "cell_type": "code",
   "execution_count": null,
   "metadata": {
    "id": "gYL-VgtohyjF"
   },
   "outputs": [],
   "source": [
    "#Regular expressions\n",
    "\n",
    "#Example: Using re for pattern matching\n",
    "\n",
    "import re\n",
    "pattern = re.compile(r'\\d+')\n",
    "match = pattern.match('123abc')\n",
    "print(f\"Matched digits: {match.group()}\")"
   ]
  },
  {
   "cell_type": "code",
   "execution_count": null,
   "metadata": {
    "id": "X1O8DvephvTM"
   },
   "outputs": [],
   "source": [
    "#Testing\n",
    "\n",
    "#Example: Writing a simple test using unittest\n",
    "\n",
    "import unittest\n",
    "class TestStringMethods(unittest.TestCase):\n",
    "  def test_upper(self):\n",
    "    self.assertEqual('hello'.upper(), 'HELLO')\n",
    "\n",
    "if __name__ =='__main__':\n",
    "  unittest.main()"
   ]
  },
  {
   "cell_type": "code",
   "execution_count": null,
   "metadata": {
    "id": "zEapFSIjlSPH"
   },
   "outputs": [],
   "source": [
    "#Interacting with the Operating System\n",
    "\n",
    "#Example: Using subprocess to run a system command\n",
    "\n",
    "import subprocess\n",
    "result = subprocess.run(['ls', '-1'], capture_output=True, text=True)\n",
    "print(result.stdout)"
   ]
  },
  {
   "cell_type": "code",
   "execution_count": null,
   "metadata": {
    "id": "CkZ9yLmIljtm"
   },
   "outputs": [],
   "source": [
    "#Utility modules\n",
    "\n",
    "#Example: Using sys for system-specific parameters\n",
    "import sys\n",
    "print(f\"Python version: {sys.version}\")\n",
    "\n",
    "#Example: Generating random numbers using random\n",
    "import random\n",
    "random_number = random.randint(1, 100)\n",
    "print(f\"Random number: {random_number}\")\n",
    "\n",
    "#Example: Working with JSON using json\n",
    "import json\n",
    "data = {'name': 'John', 'age': 30, 'city': 'New York'}\n",
    "json_data = json.dumps(data)\n",
    "print(f\"JSON data: {json_data}\")"
   ]
  },
  {
   "cell_type": "markdown",
   "metadata": {
    "id": "6qMpCDyCoZRV"
   },
   "source": [
    "**Commonly used modules**"
   ]
  },
  {
   "cell_type": "code",
   "execution_count": null,
   "metadata": {
    "id": "bMAOp1f2oU5j"
   },
   "outputs": [],
   "source": [
    "#Os module\n",
    "\n",
    "\n",
    "\n",
    "import os\n",
    "\n",
    "#List files in the current directory\n",
    "files = os.listdir()\n",
    "files\n",
    "\n",
    "\n",
    "#Get the current working directory\n",
    "cwd = os.getcwd()\n",
    "cwd\n",
    "\n",
    "\n",
    "#Create a new directory\n",
    "os.mkdir(\"my_testdirectory\")\n"
   ]
  },
  {
   "cell_type": "code",
   "execution_count": null,
   "metadata": {
    "id": "IeAJ2Eh1820j"
   },
   "outputs": [],
   "source": [
    "#sys module\n",
    "\n",
    "\n",
    "import sys\n",
    "\n",
    "#Get command-Line arguments\n",
    "arguments = sys.argv\n",
    "\n",
    "# Exit the program with an error code\n",
    "sys.exit(1)"
   ]
  },
  {
   "cell_type": "code",
   "execution_count": null,
   "metadata": {
    "id": "bYbDuvfR9LBE"
   },
   "outputs": [],
   "source": [
    "#math module\n",
    "\n",
    "import math\n",
    "\n",
    "#Calculate the square root\n",
    "square_root = math.sqrt(25)\n",
    "square_root\n",
    "\n",
    "#Compute the sine of an angle in radians\n",
    "\n",
    "sine_value = math.sin(math.radians(30))\n",
    "\n",
    "sine_value"
   ]
  },
  {
   "cell_type": "code",
   "execution_count": null,
   "metadata": {
    "id": "s2ja3XSR9f7W"
   },
   "outputs": [],
   "source": [
    "#Datetime module\n",
    "\n",
    "\n",
    "from datetime import datetime\n",
    "\n",
    "\n",
    "#Get the current date and time\n",
    "current_time = datetime.now()\n",
    "current_time\n",
    "\n",
    "\n",
    "#Format a date as a string\n",
    "formatted_date = current_time.strftime(\"%Y-%m-%d %H:%M:%S\")\n",
    "\n",
    "formatted_date"
   ]
  },
  {
   "cell_type": "markdown",
   "metadata": {
    "id": "uK2CSFBI-Oxh"
   },
   "source": [
    "**Matplotlib**"
   ]
  },
  {
   "cell_type": "code",
   "execution_count": null,
   "metadata": {
    "id": "rOomheOM-PII"
   },
   "outputs": [],
   "source": [
    "import matplotlib.pyplot as plt\n",
    "import numpy as np\n",
    "\n",
    "\n",
    "#generate some sample data to show on plot\n",
    "x = np.linspace(0, 2 * np.pi, 100)\n",
    "y = np.sin(x)\n",
    "\n",
    "\n",
    "#Creating multiple subplots\n",
    "fig, axes = plt.subplots(2, 2, figsize=(8, 6))\n",
    "\n",
    "#Plot 1\n",
    "axes[0, 0].plot(x, np.sin(x))\n",
    "axes[0, 0].set_title('Sine Wave')\n",
    "\n",
    "# Plot 2\n",
    "axes[0, 1].scatter(x, y, color='red')\n",
    "axes[0, 1].set_title('Scatter Plot')\n",
    "\n",
    "# Plot 3\n",
    "axes[1, 0].hist(np.random.randn(1000), bins=30, color='green', alpha=0.7)\n",
    "axes[1, 0].set_title('Histogram')\n",
    "\n",
    "#Plot 4\n",
    "axes[1, 1].plot(x, np.cos(x), linestyle='dashed', color='purple')\n",
    "axes[1, 1].set_title('Cosine Wave')\n",
    "\n",
    "plt.tight_layout()\n",
    "plt.show()\n"
   ]
  },
  {
   "cell_type": "code",
   "execution_count": null,
   "metadata": {
    "id": "NZt2PC-t_W7W"
   },
   "outputs": [],
   "source": []
  }
 ],
 "metadata": {
  "colab": {
   "provenance": []
  },
  "kernelspec": {
   "display_name": "Python 3",
   "name": "python3"
  },
  "language_info": {
   "codemirror_mode": {
    "name": "ipython",
    "version": 3
   },
   "file_extension": ".py",
   "mimetype": "text/x-python",
   "name": "python",
   "nbconvert_exporter": "python",
   "pygments_lexer": "ipython3",
   "version": "3.11.9"
  }
 },
 "nbformat": 4,
 "nbformat_minor": 0
}
